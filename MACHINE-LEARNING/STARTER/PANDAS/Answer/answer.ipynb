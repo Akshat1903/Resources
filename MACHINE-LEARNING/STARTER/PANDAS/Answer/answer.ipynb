{
 "cells": [
  {
   "cell_type": "markdown",
   "metadata": {},
   "source": [
    "## Problem Statement :\n",
    "Most Deadliest attack in a history of HumanKind?\n",
    "Print count of Killed people as integer value.\n",
    "### Note: Here Deadliest attack means, in which the most number of people killed."
   ]
  },
  {
   "cell_type": "code",
   "execution_count": 1,
   "metadata": {},
   "outputs": [
    {
     "name": "stdout",
     "output_type": "stream",
     "text": [
      "1570 Iraq Islamic State of Iraq and the Levant (ISIL)\n"
     ]
    }
   ],
   "source": [
    "import pandas as pd\n",
    "df=pd.read_csv(\"../../../DATA/pandas/terrorismData.csv\",skipinitialspace=True)\n",
    "df_kill=df[df[\"Killed\"]==df[\"Killed\"].max()]\n",
    "print(int(df_kill[\"Killed\"].values[0]),(df_kill[\"Country\"].values[0]),(df_kill[\"Group\"].values[0]))"
   ]
  },
  {
   "cell_type": "markdown",
   "metadata": {},
   "source": [
    "### Problem Statement :\n",
    "There was formation of new government in India on 26 May 2014. So current government's span is from 26th May 2014 to current. Find out two things from this period-\n",
    "\n",
    "#### 1. Total number of attacks done in this period in India. Find this count as integer.\n",
    "#### 2. Which Terrorist group was most active in this period in India. Most active means, group which has done maximum number of attacks. \n",
    "#### 3.Ignore the Unknown group. \n"
   ]
  },
  {
   "cell_type": "code",
   "execution_count": 2,
   "metadata": {},
   "outputs": [
    {
     "name": "stdout",
     "output_type": "stream",
     "text": [
      "3336 Maoists\n"
     ]
    }
   ],
   "source": [
    "## Open and read data file as specified in the question\n",
    "## Print the required output in given format\n",
    "import pandas as pd\n",
    "df=pd.read_csv(\"../../../DATA/pandas/terrorismData.csv\",skipinitialspace=True)\n",
    "\n",
    "df_data=df[df[\"Country\"]==\"India\"]#all data of india \n",
    "data_g_2014=df_data[df_data[\"Year\"]>=2015]#data greater than 2014 of india\n",
    "data_2014=df_data[df_data[\"Year\"]==2014]#data  of 2014 of india\n",
    "data_2014_1=data_2014[data_2014[\"Month\"]>5]#data from month 6 of india in 2014\n",
    "data_2014_2=data_2014[data_2014[\"Month\"]==5]#data of month 5 of india in 2014\n",
    "data_2014_2=data_2014_2[data_2014_2[\"Day\"]>=26]\n",
    "#final data are data_g_2014 data_2014_1 data_2014_2\n",
    "total_num_attack=data_g_2014.shape[0]+data_2014_1.shape[0]+data_2014_2.shape[0]\n",
    "print(total_num_attack,data_g_2014.Group.value_counts().index[1])"
   ]
  },
  {
   "cell_type": "code",
   "execution_count": null,
   "metadata": {},
   "outputs": [],
   "source": []
  }
 ],
 "metadata": {
  "kernelspec": {
   "display_name": "Python 3",
   "language": "python",
   "name": "python3"
  },
  "language_info": {
   "codemirror_mode": {
    "name": "ipython",
    "version": 3
   },
   "file_extension": ".py",
   "mimetype": "text/x-python",
   "name": "python",
   "nbconvert_exporter": "python",
   "pygments_lexer": "ipython3",
   "version": "3.8.5"
  }
 },
 "nbformat": 4,
 "nbformat_minor": 4
}
