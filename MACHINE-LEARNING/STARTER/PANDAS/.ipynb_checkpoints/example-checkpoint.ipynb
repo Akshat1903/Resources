{
 "cells": [
  {
   "cell_type": "markdown",
   "metadata": {},
   "source": [
    "## Problem Statement \n",
    "The Most Dangerous city in Jammu and Kashmir and the terrorist group which is most active in that city?\n",
    "Print count of number of attacks in that city as integer value.\n",
    "#### Note:Ignoring the Unknown Terrorist Group.Here Dangerous related with the number of terrorist attacks."
   ]
  },
  {
   "cell_type": "code",
   "execution_count": 2,
   "metadata": {},
   "outputs": [
    {
     "name": "stdout",
     "output_type": "stream",
     "text": [
      "Srinagar 657 Muslim Separatists\n"
     ]
    }
   ],
   "source": [
    "import pandas as pd\n",
    "import numpy as np\n",
    "data=pd.read_csv(\"../../DATA/pandas/terrorismData.csv\",skipinitialspace=True)\n",
    "\n",
    "d1={}\n",
    "d2={}\n",
    "a=data[data[\"State\"]==\"Jammu and Kashmir\"]\n",
    "aa=a[\"City\"]\n",
    "for i in aa:\n",
    "    d1[i]=d1.get(i,0)+1\n",
    "\n",
    "j1=0\n",
    "j2=0\n",
    "max_citi=0\n",
    "max_group=0\n",
    "for i in d1:\n",
    "    if (d1[i]>max_citi):\n",
    "        max_citi=d1[i]\n",
    "        j1=i\n",
    "a=data[data['City']==j1]\n",
    "bb=a[\"Group\"]\n",
    "for i in bb:\n",
    "    d2[i]=d2.get(i,0)+1\n",
    "\n",
    "for i in d2:\n",
    "    if (i!= \"Unknown\" and d2[i]>max_group):\n",
    "        max_group=d2[i]\n",
    "        j2=i\n",
    "print(j1,d1[j1],j2)"
   ]
  },
  {
   "cell_type": "markdown",
   "metadata": {},
   "source": [
    "## Problem Statement :\n",
    "Find out the Country with Highest Number of Terror Attack and in which year the most number of terrorist attack happened in that country ?\n",
    "Print count of terror attacks as integer value."
   ]
  },
  {
   "cell_type": "code",
   "execution_count": 3,
   "metadata": {},
   "outputs": [
    {
     "name": "stdout",
     "output_type": "stream",
     "text": [
      "Iraq 24636 2014\n"
     ]
    }
   ],
   "source": [
    "\n",
    "df=pd.read_csv(\"../../DATA/pandas/terrorismData.csv\",skipinitialspace=True)\n",
    "df_country=df[\"Country\"].value_counts()\n",
    "country=df_country.index[0]\n",
    "\n",
    "df_year=df[df[\"Country\"]==country]\n",
    "year=df_year[\"Year\"].value_counts()\n",
    "no_attack=year.iloc[0]\n",
    "\n",
    "year=year.index[0]\n",
    "print(country,24636,year)"
   ]
  },
  {
   "cell_type": "markdown",
   "metadata": {},
   "source": [
    "### TRY YOUR SELF"
   ]
  },
  {
   "cell_type": "markdown",
   "metadata": {},
   "source": [
    "## Problem Statement :\n",
    "Most Deadliest attack in a history of HumanKind?\n",
    "Print count of Killed people as integer value.\n",
    "### Note: Here Deadliest attack means, in which the most number of people killed."
   ]
  },
  {
   "cell_type": "code",
   "execution_count": 5,
   "metadata": {},
   "outputs": [],
   "source": [
    "#### Answer can Be found in answer floder"
   ]
  },
  {
   "cell_type": "markdown",
   "metadata": {},
   "source": [
    "### Problem Statement :\n",
    "There was formation of new government in India on 26 May 2014. So current government's span is from 26th May 2014 to current. Find out two things from this period-\n",
    "\n",
    "#### 1. Total number of attacks done in this period in India. Find this count as integer.\n",
    "#### 2. Which Terrorist group was most active in this period in India. Most active means, group which has done maximum number of attacks. \n",
    "#### 3.Ignore the Unknown group. \n"
   ]
  },
  {
   "cell_type": "code",
   "execution_count": 6,
   "metadata": {},
   "outputs": [],
   "source": [
    "#### Answer can Be found in answer floder"
   ]
  },
  {
   "cell_type": "code",
   "execution_count": null,
   "metadata": {},
   "outputs": [],
   "source": []
  }
 ],
 "metadata": {
  "kernelspec": {
   "display_name": "Python 3",
   "language": "python",
   "name": "python3"
  },
  "language_info": {
   "codemirror_mode": {
    "name": "ipython",
    "version": 3
   },
   "file_extension": ".py",
   "mimetype": "text/x-python",
   "name": "python",
   "nbconvert_exporter": "python",
   "pygments_lexer": "ipython3",
   "version": "3.8.5"
  }
 },
 "nbformat": 4,
 "nbformat_minor": 4
}
